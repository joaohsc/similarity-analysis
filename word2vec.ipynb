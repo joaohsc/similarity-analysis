{
 "cells": [
  {
   "cell_type": "code",
   "execution_count": 1,
   "metadata": {},
   "outputs": [],
   "source": [
    "#imports\n",
    "import matplotlib as plt\n",
    "import numpy as np\n",
    "import pandas as pd\n",
    "import seaborn as sns\n",
    "import spacy as sp"
   ]
  },
  {
   "cell_type": "code",
   "execution_count": 2,
   "metadata": {},
   "outputs": [],
   "source": [
    "headlines = [\n",
    "#Crypto\n",
    "'Investors unfazed by correction as crypto funds see $154 million inflows',\n",
    "'Bitcoin, Ethereum prices continue descent, but crypto funds see inflows',\n",
    " \n",
    "#Inflation\n",
    "'The surge in euro area inflation during the pandemic: transitory but with upside risks',\n",
    "\"Inflation: why it's temporary and raising interest rates will do more harm than good\",\n",
    " \n",
    "#common\n",
    "'Will Cryptocurrency Protect Against Inflation?']\n",
    "\n",
    "nlp = sp.load('en_core_web_md')\n",
    "docs = [nlp(headline) for headline in headlines]"
   ]
  },
  {
   "cell_type": "code",
   "execution_count": 3,
   "metadata": {},
   "outputs": [
    {
     "ename": "NameError",
     "evalue": "name 'labels' is not defined",
     "output_type": "error",
     "traceback": [
      "\u001b[1;31m---------------------------------------------------------------------------\u001b[0m",
      "\u001b[1;31mNameError\u001b[0m                                 Traceback (most recent call last)",
      "Cell \u001b[1;32mIn[3], line 16\u001b[0m\n\u001b[0;32m     13\u001b[0m         row\u001b[38;5;241m.\u001b[39mappend(docs[i]\u001b[38;5;241m.\u001b[39msimilarity(docs[j]))\n\u001b[0;32m     14\u001b[0m     similarity\u001b[38;5;241m.\u001b[39mappend(row)\n\u001b[1;32m---> 16\u001b[0m \u001b[43mcreate_heatmap\u001b[49m\u001b[43m(\u001b[49m\u001b[43msimilarity\u001b[49m\u001b[43m)\u001b[49m\n",
      "Cell \u001b[1;32mIn[3], line 3\u001b[0m, in \u001b[0;36mcreate_heatmap\u001b[1;34m(similarity, cmap)\u001b[0m\n\u001b[0;32m      1\u001b[0m \u001b[38;5;28;01mdef\u001b[39;00m \u001b[38;5;21mcreate_heatmap\u001b[39m(similarity, cmap \u001b[38;5;241m=\u001b[39m \u001b[38;5;124m\"\u001b[39m\u001b[38;5;124mYlGnBu\u001b[39m\u001b[38;5;124m\"\u001b[39m):\n\u001b[0;32m      2\u001b[0m   df \u001b[38;5;241m=\u001b[39m pd\u001b[38;5;241m.\u001b[39mDataFrame(similarity)\n\u001b[1;32m----> 3\u001b[0m   df\u001b[38;5;241m.\u001b[39mcolumns \u001b[38;5;241m=\u001b[39m \u001b[43mlabels\u001b[49m\n\u001b[0;32m      4\u001b[0m   df\u001b[38;5;241m.\u001b[39mindex \u001b[38;5;241m=\u001b[39m labels\n\u001b[0;32m      5\u001b[0m   fig, ax \u001b[38;5;241m=\u001b[39m plt\u001b[38;5;241m.\u001b[39mpyplot\u001b[38;5;241m.\u001b[39msubplots(figsize\u001b[38;5;241m=\u001b[39m(\u001b[38;5;241m5\u001b[39m,\u001b[38;5;241m5\u001b[39m))\n",
      "\u001b[1;31mNameError\u001b[0m: name 'labels' is not defined"
     ]
    }
   ],
   "source": [
    "def create_heatmap(similarity, cmap = \"YlGnBu\"):\n",
    "  labels = [headline[:20] for headline in headlines]\n",
    "  df = pd.DataFrame(similarity)\n",
    "  df.columns = labels\n",
    "  df.index = labels\n",
    "  fig, ax = plt.pyplot.subplots(figsize=(5,5))\n",
    "  sns.heatmap(df, cmap=cmap)\n",
    "\n",
    "similarity = []\n",
    "\n",
    "for i in range(len(docs)):\n",
    "    row = []\n",
    "    for j in range(len(docs)):\n",
    "        row.append(docs[i].similarity(docs[j]))\n",
    "    similarity.append(row)\n",
    "\n",
    "create_heatmap(similarity)\n"
   ]
  }
 ],
 "metadata": {
  "kernelspec": {
   "display_name": "nlp_tests",
   "language": "python",
   "name": "python3"
  },
  "language_info": {
   "codemirror_mode": {
    "name": "ipython",
    "version": 3
   },
   "file_extension": ".py",
   "mimetype": "text/x-python",
   "name": "python",
   "nbconvert_exporter": "python",
   "pygments_lexer": "ipython3",
   "version": "3.12.2"
  }
 },
 "nbformat": 4,
 "nbformat_minor": 2
}
