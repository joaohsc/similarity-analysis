{
 "cells": [
  {
   "cell_type": "code",
   "execution_count": 3,
   "metadata": {},
   "outputs": [],
   "source": [
    "#imports\n",
    "import matplotlib as plt\n",
    "import numpy as np\n",
    "plt.style.use('seaborn')\n",
    "\n",
    "import pandas as pd\n",
    "import seaborn as sns"
   ]
  },
  {
   "cell_type": "code",
   "execution_count": null,
   "metadata": {},
   "outputs": [],
   "source": [
    "headlines = [\n",
    "#Crypto\n",
    "'Investors unfazed by correction as crypto funds see $154 million inflows',\n",
    "'Bitcoin, Ethereum prices continue descent, but crypto funds see inflows',\n",
    " \n",
    "#Inflation\n",
    "'The surge in euro area inflation during the pandemic: transitory but with upside risks',\n",
    "\"Inflation: why it's temporary and raising interest rates will do more harm than good\",\n",
    " \n",
    "#common\n",
    "'Will Cryptocurrency Protect Against Inflation?']"
   ]
  },
  {
   "cell_type": "code",
   "execution_count": null,
   "metadata": {},
   "outputs": [],
   "source": [
    "labels = [headline[:20] for headline in headlines]\n",
    " \n",
    "def create_heatmap(similarity, cmap = \"YlGnBu\"):\n",
    "  df = pd.DataFrame(similarity)\n",
    "  df.columns = labels\n",
    "  df.index = labels\n",
    "  fig, ax = plt.subplots(figsize=(5,5))\n",
    "  sns.heatmap(df, cmap=cmap)"
   ]
  }
 ],
 "metadata": {
  "kernelspec": {
   "display_name": "nlp_tests",
   "language": "python",
   "name": "python3"
  },
  "language_info": {
   "codemirror_mode": {
    "name": "ipython",
    "version": 3
   },
   "file_extension": ".py",
   "mimetype": "text/x-python",
   "name": "python",
   "nbconvert_exporter": "python",
   "pygments_lexer": "ipython3",
   "version": "3.12.2"
  }
 },
 "nbformat": 4,
 "nbformat_minor": 2
}
